{
  "nbformat": 4,
  "nbformat_minor": 0,
  "metadata": {
    "colab": {
      "name": "bitcoin price prediction using lstm",
      "provenance": [],
      "collapsed_sections": [],
      "include_colab_link": true
    },
    "kernelspec": {
      "name": "python3",
      "display_name": "Python 3"
    },
    "language_info": {
      "name": "python"
    }
  },
  "cells": [
    {
      "cell_type": "markdown",
      "metadata": {
        "id": "view-in-github",
        "colab_type": "text"
      },
      "source": [
        "<a href=\"https://colab.research.google.com/github/Chien-Klein/Cryptocurrency-Prediction/blob/master/bitcoin_price_prediction_using_lstm.ipynb\" target=\"_parent\"><img src=\"https://colab.research.google.com/assets/colab-badge.svg\" alt=\"Open In Colab\"/></a>"
      ]
    },
    {
      "cell_type": "code",
      "metadata": {
        "colab": {
          "resources": {
            "http://localhost:8080/nbextensions/google.colab/files.js": {
              "data": "Ly8gQ29weXJpZ2h0IDIwMTcgR29vZ2xlIExMQwovLwovLyBMaWNlbnNlZCB1bmRlciB0aGUgQXBhY2hlIExpY2Vuc2UsIFZlcnNpb24gMi4wICh0aGUgIkxpY2Vuc2UiKTsKLy8geW91IG1heSBub3QgdXNlIHRoaXMgZmlsZSBleGNlcHQgaW4gY29tcGxpYW5jZSB3aXRoIHRoZSBMaWNlbnNlLgovLyBZb3UgbWF5IG9idGFpbiBhIGNvcHkgb2YgdGhlIExpY2Vuc2UgYXQKLy8KLy8gICAgICBodHRwOi8vd3d3LmFwYWNoZS5vcmcvbGljZW5zZXMvTElDRU5TRS0yLjAKLy8KLy8gVW5sZXNzIHJlcXVpcmVkIGJ5IGFwcGxpY2FibGUgbGF3IG9yIGFncmVlZCB0byBpbiB3cml0aW5nLCBzb2Z0d2FyZQovLyBkaXN0cmlidXRlZCB1bmRlciB0aGUgTGljZW5zZSBpcyBkaXN0cmlidXRlZCBvbiBhbiAiQVMgSVMiIEJBU0lTLAovLyBXSVRIT1VUIFdBUlJBTlRJRVMgT1IgQ09ORElUSU9OUyBPRiBBTlkgS0lORCwgZWl0aGVyIGV4cHJlc3Mgb3IgaW1wbGllZC4KLy8gU2VlIHRoZSBMaWNlbnNlIGZvciB0aGUgc3BlY2lmaWMgbGFuZ3VhZ2UgZ292ZXJuaW5nIHBlcm1pc3Npb25zIGFuZAovLyBsaW1pdGF0aW9ucyB1bmRlciB0aGUgTGljZW5zZS4KCi8qKgogKiBAZmlsZW92ZXJ2aWV3IEhlbHBlcnMgZm9yIGdvb2dsZS5jb2xhYiBQeXRob24gbW9kdWxlLgogKi8KKGZ1bmN0aW9uKHNjb3BlKSB7CmZ1bmN0aW9uIHNwYW4odGV4dCwgc3R5bGVBdHRyaWJ1dGVzID0ge30pIHsKICBjb25zdCBlbGVtZW50ID0gZG9jdW1lbnQuY3JlYXRlRWxlbWVudCgnc3BhbicpOwogIGVsZW1lbnQudGV4dENvbnRlbnQgPSB0ZXh0OwogIGZvciAoY29uc3Qga2V5IG9mIE9iamVjdC5rZXlzKHN0eWxlQXR0cmlidXRlcykpIHsKICAgIGVsZW1lbnQuc3R5bGVba2V5XSA9IHN0eWxlQXR0cmlidXRlc1trZXldOwogIH0KICByZXR1cm4gZWxlbWVudDsKfQoKLy8gTWF4IG51bWJlciBvZiBieXRlcyB3aGljaCB3aWxsIGJlIHVwbG9hZGVkIGF0IGEgdGltZS4KY29uc3QgTUFYX1BBWUxPQURfU0laRSA9IDEwMCAqIDEwMjQ7CgpmdW5jdGlvbiBfdXBsb2FkRmlsZXMoaW5wdXRJZCwgb3V0cHV0SWQpIHsKICBjb25zdCBzdGVwcyA9IHVwbG9hZEZpbGVzU3RlcChpbnB1dElkLCBvdXRwdXRJZCk7CiAgY29uc3Qgb3V0cHV0RWxlbWVudCA9IGRvY3VtZW50LmdldEVsZW1lbnRCeUlkKG91dHB1dElkKTsKICAvLyBDYWNoZSBzdGVwcyBvbiB0aGUgb3V0cHV0RWxlbWVudCB0byBtYWtlIGl0IGF2YWlsYWJsZSBmb3IgdGhlIG5leHQgY2FsbAogIC8vIHRvIHVwbG9hZEZpbGVzQ29udGludWUgZnJvbSBQeXRob24uCiAgb3V0cHV0RWxlbWVudC5zdGVwcyA9IHN0ZXBzOwoKICByZXR1cm4gX3VwbG9hZEZpbGVzQ29udGludWUob3V0cHV0SWQpOwp9CgovLyBUaGlzIGlzIHJvdWdobHkgYW4gYXN5bmMgZ2VuZXJhdG9yIChub3Qgc3VwcG9ydGVkIGluIHRoZSBicm93c2VyIHlldCksCi8vIHdoZXJlIHRoZXJlIGFyZSBtdWx0aXBsZSBhc3luY2hyb25vdXMgc3RlcHMgYW5kIHRoZSBQeXRob24gc2lkZSBpcyBnb2luZwovLyB0byBwb2xsIGZvciBjb21wbGV0aW9uIG9mIGVhY2ggc3RlcC4KLy8gVGhpcyB1c2VzIGEgUHJvbWlzZSB0byBibG9jayB0aGUgcHl0aG9uIHNpZGUgb24gY29tcGxldGlvbiBvZiBlYWNoIHN0ZXAsCi8vIHRoZW4gcGFzc2VzIHRoZSByZXN1bHQgb2YgdGhlIHByZXZpb3VzIHN0ZXAgYXMgdGhlIGlucHV0IHRvIHRoZSBuZXh0IHN0ZXAuCmZ1bmN0aW9uIF91cGxvYWRGaWxlc0NvbnRpbnVlKG91dHB1dElkKSB7CiAgY29uc3Qgb3V0cHV0RWxlbWVudCA9IGRvY3VtZW50LmdldEVsZW1lbnRCeUlkKG91dHB1dElkKTsKICBjb25zdCBzdGVwcyA9IG91dHB1dEVsZW1lbnQuc3RlcHM7CgogIGNvbnN0IG5leHQgPSBzdGVwcy5uZXh0KG91dHB1dEVsZW1lbnQubGFzdFByb21pc2VWYWx1ZSk7CiAgcmV0dXJuIFByb21pc2UucmVzb2x2ZShuZXh0LnZhbHVlLnByb21pc2UpLnRoZW4oKHZhbHVlKSA9PiB7CiAgICAvLyBDYWNoZSB0aGUgbGFzdCBwcm9taXNlIHZhbHVlIHRvIG1ha2UgaXQgYXZhaWxhYmxlIHRvIHRoZSBuZXh0CiAgICAvLyBzdGVwIG9mIHRoZSBnZW5lcmF0b3IuCiAgICBvdXRwdXRFbGVtZW50Lmxhc3RQcm9taXNlVmFsdWUgPSB2YWx1ZTsKICAgIHJldHVybiBuZXh0LnZhbHVlLnJlc3BvbnNlOwogIH0pOwp9CgovKioKICogR2VuZXJhdG9yIGZ1bmN0aW9uIHdoaWNoIGlzIGNhbGxlZCBiZXR3ZWVuIGVhY2ggYXN5bmMgc3RlcCBvZiB0aGUgdXBsb2FkCiAqIHByb2Nlc3MuCiAqIEBwYXJhbSB7c3RyaW5nfSBpbnB1dElkIEVsZW1lbnQgSUQgb2YgdGhlIGlucHV0IGZpbGUgcGlja2VyIGVsZW1lbnQuCiAqIEBwYXJhbSB7c3RyaW5nfSBvdXRwdXRJZCBFbGVtZW50IElEIG9mIHRoZSBvdXRwdXQgZGlzcGxheS4KICogQHJldHVybiB7IUl0ZXJhYmxlPCFPYmplY3Q+fSBJdGVyYWJsZSBvZiBuZXh0IHN0ZXBzLgogKi8KZnVuY3Rpb24qIHVwbG9hZEZpbGVzU3RlcChpbnB1dElkLCBvdXRwdXRJZCkgewogIGNvbnN0IGlucHV0RWxlbWVudCA9IGRvY3VtZW50LmdldEVsZW1lbnRCeUlkKGlucHV0SWQpOwogIGlucHV0RWxlbWVudC5kaXNhYmxlZCA9IGZhbHNlOwoKICBjb25zdCBvdXRwdXRFbGVtZW50ID0gZG9jdW1lbnQuZ2V0RWxlbWVudEJ5SWQob3V0cHV0SWQpOwogIG91dHB1dEVsZW1lbnQuaW5uZXJIVE1MID0gJyc7CgogIGNvbnN0IHBpY2tlZFByb21pc2UgPSBuZXcgUHJvbWlzZSgocmVzb2x2ZSkgPT4gewogICAgaW5wdXRFbGVtZW50LmFkZEV2ZW50TGlzdGVuZXIoJ2NoYW5nZScsIChlKSA9PiB7CiAgICAgIHJlc29sdmUoZS50YXJnZXQuZmlsZXMpOwogICAgfSk7CiAgfSk7CgogIGNvbnN0IGNhbmNlbCA9IGRvY3VtZW50LmNyZWF0ZUVsZW1lbnQoJ2J1dHRvbicpOwogIGlucHV0RWxlbWVudC5wYXJlbnRFbGVtZW50LmFwcGVuZENoaWxkKGNhbmNlbCk7CiAgY2FuY2VsLnRleHRDb250ZW50ID0gJ0NhbmNlbCB1cGxvYWQnOwogIGNvbnN0IGNhbmNlbFByb21pc2UgPSBuZXcgUHJvbWlzZSgocmVzb2x2ZSkgPT4gewogICAgY2FuY2VsLm9uY2xpY2sgPSAoKSA9PiB7CiAgICAgIHJlc29sdmUobnVsbCk7CiAgICB9OwogIH0pOwoKICAvLyBXYWl0IGZvciB0aGUgdXNlciB0byBwaWNrIHRoZSBmaWxlcy4KICBjb25zdCBmaWxlcyA9IHlpZWxkIHsKICAgIHByb21pc2U6IFByb21pc2UucmFjZShbcGlja2VkUHJvbWlzZSwgY2FuY2VsUHJvbWlzZV0pLAogICAgcmVzcG9uc2U6IHsKICAgICAgYWN0aW9uOiAnc3RhcnRpbmcnLAogICAgfQogIH07CgogIGNhbmNlbC5yZW1vdmUoKTsKCiAgLy8gRGlzYWJsZSB0aGUgaW5wdXQgZWxlbWVudCBzaW5jZSBmdXJ0aGVyIHBpY2tzIGFyZSBub3QgYWxsb3dlZC4KICBpbnB1dEVsZW1lbnQuZGlzYWJsZWQgPSB0cnVlOwoKICBpZiAoIWZpbGVzKSB7CiAgICByZXR1cm4gewogICAgICByZXNwb25zZTogewogICAgICAgIGFjdGlvbjogJ2NvbXBsZXRlJywKICAgICAgfQogICAgfTsKICB9CgogIGZvciAoY29uc3QgZmlsZSBvZiBmaWxlcykgewogICAgY29uc3QgbGkgPSBkb2N1bWVudC5jcmVhdGVFbGVtZW50KCdsaScpOwogICAgbGkuYXBwZW5kKHNwYW4oZmlsZS5uYW1lLCB7Zm9udFdlaWdodDogJ2JvbGQnfSkpOwogICAgbGkuYXBwZW5kKHNwYW4oCiAgICAgICAgYCgke2ZpbGUudHlwZSB8fCAnbi9hJ30pIC0gJHtmaWxlLnNpemV9IGJ5dGVzLCBgICsKICAgICAgICBgbGFzdCBtb2RpZmllZDogJHsKICAgICAgICAgICAgZmlsZS5sYXN0TW9kaWZpZWREYXRlID8gZmlsZS5sYXN0TW9kaWZpZWREYXRlLnRvTG9jYWxlRGF0ZVN0cmluZygpIDoKICAgICAgICAgICAgICAgICAgICAgICAgICAgICAgICAgICAgJ24vYSd9IC0gYCkpOwogICAgY29uc3QgcGVyY2VudCA9IHNwYW4oJzAlIGRvbmUnKTsKICAgIGxpLmFwcGVuZENoaWxkKHBlcmNlbnQpOwoKICAgIG91dHB1dEVsZW1lbnQuYXBwZW5kQ2hpbGQobGkpOwoKICAgIGNvbnN0IGZpbGVEYXRhUHJvbWlzZSA9IG5ldyBQcm9taXNlKChyZXNvbHZlKSA9PiB7CiAgICAgIGNvbnN0IHJlYWRlciA9IG5ldyBGaWxlUmVhZGVyKCk7CiAgICAgIHJlYWRlci5vbmxvYWQgPSAoZSkgPT4gewogICAgICAgIHJlc29sdmUoZS50YXJnZXQucmVzdWx0KTsKICAgICAgfTsKICAgICAgcmVhZGVyLnJlYWRBc0FycmF5QnVmZmVyKGZpbGUpOwogICAgfSk7CiAgICAvLyBXYWl0IGZvciB0aGUgZGF0YSB0byBiZSByZWFkeS4KICAgIGxldCBmaWxlRGF0YSA9IHlpZWxkIHsKICAgICAgcHJvbWlzZTogZmlsZURhdGFQcm9taXNlLAogICAgICByZXNwb25zZTogewogICAgICAgIGFjdGlvbjogJ2NvbnRpbnVlJywKICAgICAgfQogICAgfTsKCiAgICAvLyBVc2UgYSBjaHVua2VkIHNlbmRpbmcgdG8gYXZvaWQgbWVzc2FnZSBzaXplIGxpbWl0cy4gU2VlIGIvNjIxMTU2NjAuCiAgICBsZXQgcG9zaXRpb24gPSAwOwogICAgZG8gewogICAgICBjb25zdCBsZW5ndGggPSBNYXRoLm1pbihmaWxlRGF0YS5ieXRlTGVuZ3RoIC0gcG9zaXRpb24sIE1BWF9QQVlMT0FEX1NJWkUpOwogICAgICBjb25zdCBjaHVuayA9IG5ldyBVaW50OEFycmF5KGZpbGVEYXRhLCBwb3NpdGlvbiwgbGVuZ3RoKTsKICAgICAgcG9zaXRpb24gKz0gbGVuZ3RoOwoKICAgICAgY29uc3QgYmFzZTY0ID0gYnRvYShTdHJpbmcuZnJvbUNoYXJDb2RlLmFwcGx5KG51bGwsIGNodW5rKSk7CiAgICAgIHlpZWxkIHsKICAgICAgICByZXNwb25zZTogewogICAgICAgICAgYWN0aW9uOiAnYXBwZW5kJywKICAgICAgICAgIGZpbGU6IGZpbGUubmFtZSwKICAgICAgICAgIGRhdGE6IGJhc2U2NCwKICAgICAgICB9LAogICAgICB9OwoKICAgICAgbGV0IHBlcmNlbnREb25lID0gZmlsZURhdGEuYnl0ZUxlbmd0aCA9PT0gMCA/CiAgICAgICAgICAxMDAgOgogICAgICAgICAgTWF0aC5yb3VuZCgocG9zaXRpb24gLyBmaWxlRGF0YS5ieXRlTGVuZ3RoKSAqIDEwMCk7CiAgICAgIHBlcmNlbnQudGV4dENvbnRlbnQgPSBgJHtwZXJjZW50RG9uZX0lIGRvbmVgOwoKICAgIH0gd2hpbGUgKHBvc2l0aW9uIDwgZmlsZURhdGEuYnl0ZUxlbmd0aCk7CiAgfQoKICAvLyBBbGwgZG9uZS4KICB5aWVsZCB7CiAgICByZXNwb25zZTogewogICAgICBhY3Rpb246ICdjb21wbGV0ZScsCiAgICB9CiAgfTsKfQoKc2NvcGUuZ29vZ2xlID0gc2NvcGUuZ29vZ2xlIHx8IHt9OwpzY29wZS5nb29nbGUuY29sYWIgPSBzY29wZS5nb29nbGUuY29sYWIgfHwge307CnNjb3BlLmdvb2dsZS5jb2xhYi5fZmlsZXMgPSB7CiAgX3VwbG9hZEZpbGVzLAogIF91cGxvYWRGaWxlc0NvbnRpbnVlLAp9Owp9KShzZWxmKTsK",
              "ok": true,
              "headers": [
                [
                  "content-type",
                  "application/javascript"
                ]
              ],
              "status": 200,
              "status_text": ""
            }
          },
          "base_uri": "https://localhost:8080/",
          "height": 73
        },
        "id": "iOskkas4-pFC",
        "outputId": "e84f588b-1a8b-4c99-b58e-c83f6cadefcb"
      },
      "source": [
        "from google.colab import files\n",
        "uploaded = files.upload()"
      ],
      "execution_count": 1,
      "outputs": [
        {
          "output_type": "display_data",
          "data": {
            "text/html": [
              "\n",
              "     <input type=\"file\" id=\"files-b3e77b79-8808-4dd9-bd7f-65438690e1fb\" name=\"files[]\" multiple disabled\n",
              "        style=\"border:none\" />\n",
              "     <output id=\"result-b3e77b79-8808-4dd9-bd7f-65438690e1fb\">\n",
              "      Upload widget is only available when the cell has been executed in the\n",
              "      current browser session. Please rerun this cell to enable.\n",
              "      </output>\n",
              "      <script src=\"/nbextensions/google.colab/files.js\"></script> "
            ],
            "text/plain": [
              "<IPython.core.display.HTML object>"
            ]
          },
          "metadata": {}
        },
        {
          "output_type": "stream",
          "name": "stdout",
          "text": [
            "Saving bitcoin__btc.csv to bitcoin__btc.csv\n"
          ]
        }
      ]
    },
    {
      "cell_type": "code",
      "metadata": {
        "colab": {
          "base_uri": "https://localhost:8080/",
          "height": 288
        },
        "id": "056C1Uov_xjJ",
        "outputId": "d2b6c892-d28a-4461-b171-6f56b0b84d73"
      },
      "source": [
        "import math\n",
        "import matplotlib.pyplot as plt\n",
        "import keras\n",
        "import pandas as pd\n",
        "import numpy as np\n",
        "from keras.models import Sequential\n",
        "from keras.layers import Dense\n",
        "from keras.layers import LSTM\n",
        "from keras.layers import Dropout\n",
        "from keras.layers import *\n",
        "from sklearn.preprocessing import MinMaxScaler\n",
        "from sklearn.metrics import mean_squared_error\n",
        "from sklearn.metrics import mean_absolute_error\n",
        "from sklearn.model_selection import train_test_split\n",
        "from keras.callbacks import EarlyStopping\n",
        "df=pd.read_csv(\"bitcoin__btc.csv\")\n",
        "print('Data size:', df.shape)\n",
        "df.head()"
      ],
      "execution_count": 2,
      "outputs": [
        {
          "output_type": "stream",
          "name": "stdout",
          "text": [
            "Data size: (4704, 19)\n"
          ]
        },
        {
          "output_type": "execute_result",
          "data": {
            "text/html": [
              "\n",
              "  <div id=\"df-6be1162f-a931-4264-96d7-7f4434bc6122\">\n",
              "    <div class=\"colab-df-container\">\n",
              "      <div>\n",
              "<style scoped>\n",
              "    .dataframe tbody tr th:only-of-type {\n",
              "        vertical-align: middle;\n",
              "    }\n",
              "\n",
              "    .dataframe tbody tr th {\n",
              "        vertical-align: top;\n",
              "    }\n",
              "\n",
              "    .dataframe thead th {\n",
              "        text-align: right;\n",
              "    }\n",
              "</style>\n",
              "<table border=\"1\" class=\"dataframe\">\n",
              "  <thead>\n",
              "    <tr style=\"text-align: right;\">\n",
              "      <th></th>\n",
              "      <th>date</th>\n",
              "      <th>transactions</th>\n",
              "      <th>send_usd</th>\n",
              "      <th>hashrate</th>\n",
              "      <th>median_transaction_size</th>\n",
              "      <th>market_cap</th>\n",
              "      <th>active_addresses</th>\n",
              "      <th>median_transaction_value</th>\n",
              "      <th>google_trends</th>\n",
              "      <th>top_100_percent</th>\n",
              "      <th>sent_addresses</th>\n",
              "      <th>mining_profitability</th>\n",
              "      <th>block_size</th>\n",
              "      <th>confirmation_time</th>\n",
              "      <th>fee_reward</th>\n",
              "      <th>tweets</th>\n",
              "      <th>av_transaction_value</th>\n",
              "      <th>av_transaction_size</th>\n",
              "      <th>difficulty</th>\n",
              "    </tr>\n",
              "  </thead>\n",
              "  <tbody>\n",
              "    <tr>\n",
              "      <th>0</th>\n",
              "      <td>1/3/2009</td>\n",
              "      <td>0</td>\n",
              "      <td>0.0</td>\n",
              "      <td>0.0</td>\n",
              "      <td>0.0</td>\n",
              "      <td>0.0</td>\n",
              "      <td>0</td>\n",
              "      <td>0.0</td>\n",
              "      <td>0.0</td>\n",
              "      <td>0.0</td>\n",
              "      <td>0</td>\n",
              "      <td>0.0</td>\n",
              "      <td>204.0</td>\n",
              "      <td>0.0</td>\n",
              "      <td>0.0</td>\n",
              "      <td>0</td>\n",
              "      <td>0.0</td>\n",
              "      <td>0</td>\n",
              "      <td>1.0</td>\n",
              "    </tr>\n",
              "    <tr>\n",
              "      <th>1</th>\n",
              "      <td>1/4/2009</td>\n",
              "      <td>0</td>\n",
              "      <td>0.0</td>\n",
              "      <td>0.0</td>\n",
              "      <td>0.0</td>\n",
              "      <td>0.0</td>\n",
              "      <td>0</td>\n",
              "      <td>0.0</td>\n",
              "      <td>0.0</td>\n",
              "      <td>0.0</td>\n",
              "      <td>0</td>\n",
              "      <td>0.0</td>\n",
              "      <td>0.0</td>\n",
              "      <td>0.0</td>\n",
              "      <td>0.0</td>\n",
              "      <td>0</td>\n",
              "      <td>0.0</td>\n",
              "      <td>0</td>\n",
              "      <td>0.0</td>\n",
              "    </tr>\n",
              "    <tr>\n",
              "      <th>2</th>\n",
              "      <td>1/5/2009</td>\n",
              "      <td>0</td>\n",
              "      <td>0.0</td>\n",
              "      <td>0.0</td>\n",
              "      <td>0.0</td>\n",
              "      <td>0.0</td>\n",
              "      <td>0</td>\n",
              "      <td>0.0</td>\n",
              "      <td>0.0</td>\n",
              "      <td>0.0</td>\n",
              "      <td>0</td>\n",
              "      <td>0.0</td>\n",
              "      <td>0.0</td>\n",
              "      <td>0.0</td>\n",
              "      <td>0.0</td>\n",
              "      <td>0</td>\n",
              "      <td>0.0</td>\n",
              "      <td>0</td>\n",
              "      <td>0.0</td>\n",
              "    </tr>\n",
              "    <tr>\n",
              "      <th>3</th>\n",
              "      <td>1/6/2009</td>\n",
              "      <td>0</td>\n",
              "      <td>0.0</td>\n",
              "      <td>0.0</td>\n",
              "      <td>0.0</td>\n",
              "      <td>0.0</td>\n",
              "      <td>0</td>\n",
              "      <td>0.0</td>\n",
              "      <td>0.0</td>\n",
              "      <td>0.0</td>\n",
              "      <td>0</td>\n",
              "      <td>0.0</td>\n",
              "      <td>0.0</td>\n",
              "      <td>0.0</td>\n",
              "      <td>0.0</td>\n",
              "      <td>0</td>\n",
              "      <td>0.0</td>\n",
              "      <td>0</td>\n",
              "      <td>0.0</td>\n",
              "    </tr>\n",
              "    <tr>\n",
              "      <th>4</th>\n",
              "      <td>1/7/2009</td>\n",
              "      <td>0</td>\n",
              "      <td>0.0</td>\n",
              "      <td>0.0</td>\n",
              "      <td>0.0</td>\n",
              "      <td>0.0</td>\n",
              "      <td>0</td>\n",
              "      <td>0.0</td>\n",
              "      <td>0.0</td>\n",
              "      <td>0.0</td>\n",
              "      <td>0</td>\n",
              "      <td>0.0</td>\n",
              "      <td>0.0</td>\n",
              "      <td>0.0</td>\n",
              "      <td>0.0</td>\n",
              "      <td>0</td>\n",
              "      <td>0.0</td>\n",
              "      <td>0</td>\n",
              "      <td>0.0</td>\n",
              "    </tr>\n",
              "  </tbody>\n",
              "</table>\n",
              "</div>\n",
              "      <button class=\"colab-df-convert\" onclick=\"convertToInteractive('df-6be1162f-a931-4264-96d7-7f4434bc6122')\"\n",
              "              title=\"Convert this dataframe to an interactive table.\"\n",
              "              style=\"display:none;\">\n",
              "        \n",
              "  <svg xmlns=\"http://www.w3.org/2000/svg\" height=\"24px\"viewBox=\"0 0 24 24\"\n",
              "       width=\"24px\">\n",
              "    <path d=\"M0 0h24v24H0V0z\" fill=\"none\"/>\n",
              "    <path d=\"M18.56 5.44l.94 2.06.94-2.06 2.06-.94-2.06-.94-.94-2.06-.94 2.06-2.06.94zm-11 1L8.5 8.5l.94-2.06 2.06-.94-2.06-.94L8.5 2.5l-.94 2.06-2.06.94zm10 10l.94 2.06.94-2.06 2.06-.94-2.06-.94-.94-2.06-.94 2.06-2.06.94z\"/><path d=\"M17.41 7.96l-1.37-1.37c-.4-.4-.92-.59-1.43-.59-.52 0-1.04.2-1.43.59L10.3 9.45l-7.72 7.72c-.78.78-.78 2.05 0 2.83L4 21.41c.39.39.9.59 1.41.59.51 0 1.02-.2 1.41-.59l7.78-7.78 2.81-2.81c.8-.78.8-2.07 0-2.86zM5.41 20L4 18.59l7.72-7.72 1.47 1.35L5.41 20z\"/>\n",
              "  </svg>\n",
              "      </button>\n",
              "      \n",
              "  <style>\n",
              "    .colab-df-container {\n",
              "      display:flex;\n",
              "      flex-wrap:wrap;\n",
              "      gap: 12px;\n",
              "    }\n",
              "\n",
              "    .colab-df-convert {\n",
              "      background-color: #E8F0FE;\n",
              "      border: none;\n",
              "      border-radius: 50%;\n",
              "      cursor: pointer;\n",
              "      display: none;\n",
              "      fill: #1967D2;\n",
              "      height: 32px;\n",
              "      padding: 0 0 0 0;\n",
              "      width: 32px;\n",
              "    }\n",
              "\n",
              "    .colab-df-convert:hover {\n",
              "      background-color: #E2EBFA;\n",
              "      box-shadow: 0px 1px 2px rgba(60, 64, 67, 0.3), 0px 1px 3px 1px rgba(60, 64, 67, 0.15);\n",
              "      fill: #174EA6;\n",
              "    }\n",
              "\n",
              "    [theme=dark] .colab-df-convert {\n",
              "      background-color: #3B4455;\n",
              "      fill: #D2E3FC;\n",
              "    }\n",
              "\n",
              "    [theme=dark] .colab-df-convert:hover {\n",
              "      background-color: #434B5C;\n",
              "      box-shadow: 0px 1px 3px 1px rgba(0, 0, 0, 0.15);\n",
              "      filter: drop-shadow(0px 1px 2px rgba(0, 0, 0, 0.3));\n",
              "      fill: #FFFFFF;\n",
              "    }\n",
              "  </style>\n",
              "\n",
              "      <script>\n",
              "        const buttonEl =\n",
              "          document.querySelector('#df-6be1162f-a931-4264-96d7-7f4434bc6122 button.colab-df-convert');\n",
              "        buttonEl.style.display =\n",
              "          google.colab.kernel.accessAllowed ? 'block' : 'none';\n",
              "\n",
              "        async function convertToInteractive(key) {\n",
              "          const element = document.querySelector('#df-6be1162f-a931-4264-96d7-7f4434bc6122');\n",
              "          const dataTable =\n",
              "            await google.colab.kernel.invokeFunction('convertToInteractive',\n",
              "                                                     [key], {});\n",
              "          if (!dataTable) return;\n",
              "\n",
              "          const docLinkHtml = 'Like what you see? Visit the ' +\n",
              "            '<a target=\"_blank\" href=https://colab.research.google.com/notebooks/data_table.ipynb>data table notebook</a>'\n",
              "            + ' to learn more about interactive tables.';\n",
              "          element.innerHTML = '';\n",
              "          dataTable['output_type'] = 'display_data';\n",
              "          await google.colab.output.renderOutput(dataTable, element);\n",
              "          const docLink = document.createElement('div');\n",
              "          docLink.innerHTML = docLinkHtml;\n",
              "          element.appendChild(docLink);\n",
              "        }\n",
              "      </script>\n",
              "    </div>\n",
              "  </div>\n",
              "  "
            ],
            "text/plain": [
              "       date  transactions  ...  av_transaction_size  difficulty\n",
              "0  1/3/2009             0  ...                    0         1.0\n",
              "1  1/4/2009             0  ...                    0         0.0\n",
              "2  1/5/2009             0  ...                    0         0.0\n",
              "3  1/6/2009             0  ...                    0         0.0\n",
              "4  1/7/2009             0  ...                    0         0.0\n",
              "\n",
              "[5 rows x 19 columns]"
            ]
          },
          "metadata": {},
          "execution_count": 2
        }
      ]
    },
    {
      "cell_type": "code",
      "metadata": {
        "colab": {
          "base_uri": "https://localhost:8080/"
        },
        "id": "YqLXlSKXAGMH",
        "outputId": "8a19c6c9-f925-4a92-acd7-372f146887e5"
      },
      "source": [
        "(num_row, num_column) = df.shape\n",
        "print('Number of rows: ',num_row)\n",
        "num_train =  4600\n",
        "num_test = num_row - num_train"
      ],
      "execution_count": 3,
      "outputs": [
        {
          "output_type": "stream",
          "name": "stdout",
          "text": [
            "Number of rows:  4704\n"
          ]
        }
      ]
    },
    {
      "cell_type": "code",
      "metadata": {
        "id": "BZmt-33ZB00o"
      },
      "source": [
        "df = df.replace(r'NaN', np.nan, regex=True)"
      ],
      "execution_count": 4,
      "outputs": []
    },
    {
      "cell_type": "code",
      "metadata": {
        "colab": {
          "base_uri": "https://localhost:8080/"
        },
        "id": "MTH9h9Z5AIor",
        "outputId": "d052c774-0726-4f64-ecf0-deed70f95fce"
      },
      "source": [
        "training_set = df.iloc[:num_train, 5:6].values\n",
        "test_set = df.iloc[num_train:, 5:6].values\n",
        "# print(training_set)\n",
        "# Feature Scaling\n",
        "sc = MinMaxScaler(feature_range = (0, 1))\n",
        "training_set_scaled = sc.fit_transform(training_set)\n",
        "# print(training_set_scaled)\n",
        "# Creating a data structure with 60 time-steps and 1 output\n",
        "X_train = []\n",
        "y_train = []\n",
        "for i in range(60, num_train):\n",
        "    X_train.append(training_set_scaled[i-60:i, 0])\n",
        "    y_train.append(training_set_scaled[i, 0])\n",
        "X_train, y_train = np.array(X_train), np.array(y_train)\n",
        "print(X_train.shape)\n",
        "X_train = np.reshape(X_train, (X_train.shape[0], X_train.shape[1], 1))\n",
        "print(y_train.shape)"
      ],
      "execution_count": 5,
      "outputs": [
        {
          "output_type": "stream",
          "name": "stdout",
          "text": [
            "(4540, 60)\n",
            "(4540,)\n"
          ]
        }
      ]
    },
    {
      "cell_type": "code",
      "metadata": {
        "colab": {
          "base_uri": "https://localhost:8080/"
        },
        "id": "0RaB9FglZDRg",
        "outputId": "9ec36c09-6f12-4774-ac2b-e31c7ec542bb"
      },
      "source": [
        "print(X_train.shape)\n",
        "print(y_train.shape)\n",
        "print(sc)"
      ],
      "execution_count": null,
      "outputs": [
        {
          "output_type": "stream",
          "name": "stdout",
          "text": [
            "(4540, 60, 1)\n",
            "(4540,)\n",
            "MinMaxScaler()\n"
          ]
        }
      ]
    },
    {
      "cell_type": "code",
      "metadata": {
        "id": "pohDQ8EwZKGR"
      },
      "source": [
        "model = Sequential()\n",
        "#Adding the first LSTM layer and some Dropout regularisation\n",
        "model.add(LSTM(units = 50, return_sequences = True, input_shape = (X_train.shape[1], 1)))\n",
        "model.add(Dropout(0.2))\n",
        "# Adding a second LSTM layer and some Dropout regularisation\n",
        "model.add(LSTM(units = 50, return_sequences = True))\n",
        "model.add(Dropout(0.2))\n",
        "# Adding a third LSTM layer and some Dropout regularisation\n",
        "model.add(LSTM(units = 50, return_sequences = True))\n",
        "model.add(Dropout(0.2))\n",
        "# Adding a fourth LSTM layer and some Dropout regularisation\n",
        "model.add(LSTM(units = 50))\n",
        "model.add(Dropout(0.2))\n",
        "# Adding the output layer\n",
        "model.add(Dense(units = 1))\n",
        "# Compiling the RNN\n",
        "model.compile(optimizer = 'adam', loss = 'mean_squared_error')\n"
      ],
      "execution_count": 6,
      "outputs": []
    },
    {
      "cell_type": "code",
      "metadata": {
        "colab": {
          "base_uri": "https://localhost:8080/"
        },
        "id": "J73P0QxVZLoN",
        "outputId": "159473db-39ef-456d-9802-25aad146c1a0"
      },
      "source": [
        "model.summary()"
      ],
      "execution_count": null,
      "outputs": [
        {
          "output_type": "stream",
          "name": "stdout",
          "text": [
            "Model: \"sequential_2\"\n",
            "_________________________________________________________________\n",
            " Layer (type)                Output Shape              Param #   \n",
            "=================================================================\n",
            " lstm_4 (LSTM)               (None, 60, 50)            10400     \n",
            "                                                                 \n",
            " dropout_4 (Dropout)         (None, 60, 50)            0         \n",
            "                                                                 \n",
            " lstm_5 (LSTM)               (None, 60, 50)            20200     \n",
            "                                                                 \n",
            " dropout_5 (Dropout)         (None, 60, 50)            0         \n",
            "                                                                 \n",
            " lstm_6 (LSTM)               (None, 60, 50)            20200     \n",
            "                                                                 \n",
            " dropout_6 (Dropout)         (None, 60, 50)            0         \n",
            "                                                                 \n",
            " lstm_7 (LSTM)               (None, 50)                20200     \n",
            "                                                                 \n",
            " dropout_7 (Dropout)         (None, 50)                0         \n",
            "                                                                 \n",
            " dense_1 (Dense)             (None, 1)                 51        \n",
            "                                                                 \n",
            "=================================================================\n",
            "Total params: 71,051\n",
            "Trainable params: 71,051\n",
            "Non-trainable params: 0\n",
            "_________________________________________________________________\n"
          ]
        }
      ]
    },
    {
      "cell_type": "code",
      "metadata": {
        "colab": {
          "base_uri": "https://localhost:8080/"
        },
        "id": "U_mH0CLnZjzI",
        "outputId": "008b1604-8463-44d8-daa6-a825c14dd7f0"
      },
      "source": [
        "# Fitting the RNN to the Training set if the data has never been trained \n",
        "import os.path\n",
        "from os import path\n",
        "path_name = 'Bitcoin_PricePredict.h5'\n",
        "if path.exists(path_name):\n",
        "  print('Data had been trained, loading weights')\n",
        "  model.load_weights(path_name)\n",
        "else:\n",
        "  print('Start training data')\n",
        "  model.fit(X_train, y_train, epochs = 100\n",
        "            , batch_size = 32)\n",
        "  model.save(path_name)"
      ],
      "execution_count": 7,
      "outputs": [
        {
          "output_type": "stream",
          "name": "stdout",
          "text": [
            "Start training data\n",
            "Epoch 1/100\n",
            "142/142 [==============================] - 30s 125ms/step - loss: 0.0022\n",
            "Epoch 2/100\n",
            "142/142 [==============================] - 18s 126ms/step - loss: 0.0015\n",
            "Epoch 3/100\n",
            "142/142 [==============================] - 18s 125ms/step - loss: 0.0011\n",
            "Epoch 4/100\n",
            "142/142 [==============================] - 18s 124ms/step - loss: 9.7273e-04\n",
            "Epoch 5/100\n",
            "142/142 [==============================] - 19s 137ms/step - loss: 8.2175e-04\n",
            "Epoch 6/100\n",
            "142/142 [==============================] - 19s 135ms/step - loss: 9.2776e-04\n",
            "Epoch 7/100\n",
            "142/142 [==============================] - 18s 127ms/step - loss: 7.1686e-04\n",
            "Epoch 8/100\n",
            "142/142 [==============================] - 18s 129ms/step - loss: 7.2220e-04\n",
            "Epoch 9/100\n",
            "142/142 [==============================] - 19s 131ms/step - loss: 6.8646e-04\n",
            "Epoch 10/100\n",
            "142/142 [==============================] - 18s 127ms/step - loss: 6.5386e-04\n",
            "Epoch 11/100\n",
            "142/142 [==============================] - 18s 125ms/step - loss: 5.5619e-04\n",
            "Epoch 12/100\n",
            "142/142 [==============================] - 18s 128ms/step - loss: 6.6876e-04\n",
            "Epoch 13/100\n",
            "142/142 [==============================] - 18s 126ms/step - loss: 6.5058e-04\n",
            "Epoch 14/100\n",
            "142/142 [==============================] - 18s 125ms/step - loss: 5.7599e-04\n",
            "Epoch 15/100\n",
            "142/142 [==============================] - 18s 126ms/step - loss: 5.2552e-04\n",
            "Epoch 16/100\n",
            "142/142 [==============================] - 18s 125ms/step - loss: 5.6252e-04\n",
            "Epoch 17/100\n",
            "142/142 [==============================] - 18s 126ms/step - loss: 4.5808e-04\n",
            "Epoch 18/100\n",
            "142/142 [==============================] - 18s 126ms/step - loss: 4.9135e-04\n",
            "Epoch 19/100\n",
            "142/142 [==============================] - 18s 126ms/step - loss: 4.4725e-04\n",
            "Epoch 20/100\n",
            "142/142 [==============================] - 18s 125ms/step - loss: 4.5180e-04\n",
            "Epoch 21/100\n",
            "142/142 [==============================] - 18s 129ms/step - loss: 5.1525e-04\n",
            "Epoch 22/100\n",
            "142/142 [==============================] - 19s 133ms/step - loss: 5.8610e-04\n",
            "Epoch 23/100\n",
            "142/142 [==============================] - 18s 127ms/step - loss: 4.5953e-04\n",
            "Epoch 24/100\n",
            "142/142 [==============================] - 18s 125ms/step - loss: 4.8940e-04\n",
            "Epoch 25/100\n",
            "142/142 [==============================] - 18s 128ms/step - loss: 6.0724e-04\n",
            "Epoch 26/100\n",
            "142/142 [==============================] - 18s 125ms/step - loss: 4.2658e-04\n",
            "Epoch 27/100\n",
            "142/142 [==============================] - 18s 126ms/step - loss: 3.9923e-04\n",
            "Epoch 28/100\n",
            "142/142 [==============================] - 18s 127ms/step - loss: 5.6376e-04\n",
            "Epoch 29/100\n",
            "142/142 [==============================] - 18s 126ms/step - loss: 4.2181e-04\n",
            "Epoch 30/100\n",
            "142/142 [==============================] - 18s 126ms/step - loss: 4.3239e-04\n",
            "Epoch 31/100\n",
            "142/142 [==============================] - 18s 125ms/step - loss: 4.1829e-04\n",
            "Epoch 32/100\n",
            "142/142 [==============================] - 18s 127ms/step - loss: 4.4771e-04\n",
            "Epoch 33/100\n",
            "142/142 [==============================] - 18s 127ms/step - loss: 4.1479e-04\n",
            "Epoch 34/100\n",
            "142/142 [==============================] - 18s 127ms/step - loss: 3.5561e-04\n",
            "Epoch 35/100\n",
            "142/142 [==============================] - 18s 126ms/step - loss: 4.8480e-04\n",
            "Epoch 36/100\n",
            "142/142 [==============================] - 18s 125ms/step - loss: 3.7367e-04\n",
            "Epoch 37/100\n",
            "142/142 [==============================] - 18s 129ms/step - loss: 3.6364e-04\n",
            "Epoch 38/100\n",
            "142/142 [==============================] - 18s 129ms/step - loss: 4.8614e-04\n",
            "Epoch 39/100\n",
            "142/142 [==============================] - 18s 125ms/step - loss: 3.9462e-04\n",
            "Epoch 40/100\n",
            "142/142 [==============================] - 18s 124ms/step - loss: 3.2948e-04\n",
            "Epoch 41/100\n",
            "142/142 [==============================] - 18s 124ms/step - loss: 3.4628e-04\n",
            "Epoch 42/100\n",
            "142/142 [==============================] - 18s 126ms/step - loss: 4.1593e-04\n",
            "Epoch 43/100\n",
            "142/142 [==============================] - 18s 126ms/step - loss: 4.0133e-04\n",
            "Epoch 44/100\n",
            "142/142 [==============================] - 18s 125ms/step - loss: 3.6425e-04\n",
            "Epoch 45/100\n",
            "142/142 [==============================] - 18s 126ms/step - loss: 4.5249e-04\n",
            "Epoch 46/100\n",
            "142/142 [==============================] - 18s 125ms/step - loss: 3.5982e-04\n",
            "Epoch 47/100\n",
            "142/142 [==============================] - 18s 125ms/step - loss: 3.4413e-04\n",
            "Epoch 48/100\n",
            "142/142 [==============================] - 18s 125ms/step - loss: 3.6660e-04\n",
            "Epoch 49/100\n",
            "142/142 [==============================] - 18s 125ms/step - loss: 3.0591e-04\n",
            "Epoch 50/100\n",
            "142/142 [==============================] - 18s 123ms/step - loss: 3.9247e-04\n",
            "Epoch 51/100\n",
            "142/142 [==============================] - 18s 124ms/step - loss: 3.5964e-04\n",
            "Epoch 52/100\n",
            "142/142 [==============================] - 18s 126ms/step - loss: 3.5254e-04\n",
            "Epoch 53/100\n",
            "142/142 [==============================] - 18s 129ms/step - loss: 4.2773e-04\n",
            "Epoch 54/100\n",
            "142/142 [==============================] - 18s 128ms/step - loss: 4.2476e-04\n",
            "Epoch 55/100\n",
            "142/142 [==============================] - 18s 126ms/step - loss: 4.1748e-04\n",
            "Epoch 56/100\n",
            "142/142 [==============================] - 18s 126ms/step - loss: 4.2017e-04\n",
            "Epoch 57/100\n",
            "142/142 [==============================] - 18s 125ms/step - loss: 3.7116e-04\n",
            "Epoch 58/100\n",
            "142/142 [==============================] - 18s 125ms/step - loss: 3.0441e-04\n",
            "Epoch 59/100\n",
            "142/142 [==============================] - 18s 124ms/step - loss: 4.0908e-04\n",
            "Epoch 60/100\n",
            "142/142 [==============================] - 18s 126ms/step - loss: 3.7481e-04\n",
            "Epoch 61/100\n",
            "142/142 [==============================] - 18s 124ms/step - loss: 3.4948e-04\n",
            "Epoch 62/100\n",
            "142/142 [==============================] - 18s 125ms/step - loss: 3.7127e-04\n",
            "Epoch 63/100\n",
            "142/142 [==============================] - 18s 126ms/step - loss: 3.5826e-04\n",
            "Epoch 64/100\n",
            "142/142 [==============================] - 18s 125ms/step - loss: 3.3368e-04\n",
            "Epoch 65/100\n",
            "142/142 [==============================] - 18s 125ms/step - loss: 3.4111e-04\n",
            "Epoch 66/100\n",
            "142/142 [==============================] - 18s 124ms/step - loss: 3.3763e-04\n",
            "Epoch 67/100\n",
            "142/142 [==============================] - 18s 125ms/step - loss: 3.4282e-04\n",
            "Epoch 68/100\n",
            "142/142 [==============================] - 18s 124ms/step - loss: 3.6002e-04\n",
            "Epoch 69/100\n",
            "142/142 [==============================] - 18s 126ms/step - loss: 2.7929e-04\n",
            "Epoch 70/100\n",
            "142/142 [==============================] - 18s 126ms/step - loss: 3.1098e-04\n",
            "Epoch 71/100\n",
            "142/142 [==============================] - 18s 126ms/step - loss: 3.0393e-04\n",
            "Epoch 72/100\n",
            "142/142 [==============================] - 18s 125ms/step - loss: 3.4247e-04\n",
            "Epoch 73/100\n",
            "142/142 [==============================] - 18s 124ms/step - loss: 3.3826e-04\n",
            "Epoch 74/100\n",
            "142/142 [==============================] - 18s 125ms/step - loss: 2.9372e-04\n",
            "Epoch 75/100\n",
            "142/142 [==============================] - 18s 126ms/step - loss: 3.2617e-04\n",
            "Epoch 76/100\n",
            "142/142 [==============================] - 18s 125ms/step - loss: 3.3234e-04\n",
            "Epoch 77/100\n",
            "142/142 [==============================] - 18s 125ms/step - loss: 3.5284e-04\n",
            "Epoch 78/100\n",
            "142/142 [==============================] - 18s 123ms/step - loss: 2.7316e-04\n",
            "Epoch 79/100\n",
            "142/142 [==============================] - 18s 124ms/step - loss: 3.2758e-04\n",
            "Epoch 80/100\n",
            "142/142 [==============================] - 18s 125ms/step - loss: 2.9843e-04\n",
            "Epoch 81/100\n",
            "142/142 [==============================] - 17s 123ms/step - loss: 3.2447e-04\n",
            "Epoch 82/100\n",
            "142/142 [==============================] - 18s 124ms/step - loss: 2.8813e-04\n",
            "Epoch 83/100\n",
            "142/142 [==============================] - 17s 123ms/step - loss: 2.5276e-04\n",
            "Epoch 84/100\n",
            "142/142 [==============================] - 18s 124ms/step - loss: 2.5960e-04\n",
            "Epoch 85/100\n",
            "142/142 [==============================] - 18s 124ms/step - loss: 2.6982e-04\n",
            "Epoch 86/100\n",
            "142/142 [==============================] - 18s 124ms/step - loss: 3.0836e-04\n",
            "Epoch 87/100\n",
            "142/142 [==============================] - 18s 125ms/step - loss: 2.9900e-04\n",
            "Epoch 88/100\n",
            "142/142 [==============================] - 18s 125ms/step - loss: 3.4277e-04\n",
            "Epoch 89/100\n",
            "142/142 [==============================] - 18s 125ms/step - loss: 3.0662e-04\n",
            "Epoch 90/100\n",
            "142/142 [==============================] - 17s 122ms/step - loss: 2.7665e-04\n",
            "Epoch 91/100\n",
            "142/142 [==============================] - 17s 123ms/step - loss: 2.5448e-04\n",
            "Epoch 92/100\n",
            "142/142 [==============================] - 18s 125ms/step - loss: 3.5591e-04\n",
            "Epoch 93/100\n",
            "142/142 [==============================] - 18s 124ms/step - loss: 2.7327e-04\n",
            "Epoch 94/100\n",
            "142/142 [==============================] - 18s 125ms/step - loss: 2.8015e-04\n",
            "Epoch 95/100\n",
            "142/142 [==============================] - 18s 126ms/step - loss: 3.0450e-04\n",
            "Epoch 96/100\n",
            "142/142 [==============================] - 18s 126ms/step - loss: 2.7927e-04\n",
            "Epoch 97/100\n",
            "142/142 [==============================] - 18s 127ms/step - loss: 2.8804e-04\n",
            "Epoch 98/100\n",
            "142/142 [==============================] - 18s 126ms/step - loss: 3.3144e-04\n",
            "Epoch 99/100\n",
            "142/142 [==============================] - 18s 126ms/step - loss: 3.4638e-04\n",
            "Epoch 100/100\n",
            "142/142 [==============================] - 18s 125ms/step - loss: 2.8573e-04\n"
          ]
        }
      ]
    },
    {
      "cell_type": "code",
      "metadata": {
        "colab": {
          "base_uri": "https://localhost:8080/",
          "height": 842
        },
        "id": "Erfqox44b4U2",
        "outputId": "3b5fdc5b-7a61-4be6-ce46-148730710e9d"
      },
      "source": [
        "# Getting the predicted \n",
        "dataset_train = df.iloc[:num_train, 5:6]\n",
        "dataset_test = df.iloc[num_train+1:, 5:6]\n",
        "dataset_total = pd.concat((dataset_train, dataset_test), axis = 0)\n",
        "inputs = dataset_total[len(dataset_total) - len(dataset_test) - 60:].values\n",
        "abc = dataset_test\n",
        "print(abc)\n",
        "print(abc)\n",
        "inputs = inputs.reshape(-1,1)\n",
        "\n",
        "inputs = sc.transform(inputs)\n",
        "\n",
        "X_test = []\n",
        "for i in range(60, 60 + num_test-1):\n",
        "    X_test.append(inputs[i-60:i, 0])\n",
        "X_test = np.array(X_test)\n",
        "X_test = np.reshape(X_test, (X_test.shape[0], X_test.shape[1], 1))\n",
        "print(X_test.shape)\n",
        "\n",
        "predicted_stock_price = model.predict(X_test)\n",
        "#print(predicted_stock_price)\n",
        "predicted_stock_price = sc.inverse_transform(predicted_stock_price)\n",
        "#print('after inverse transform:', predicted_stock_price)\n",
        "# Visualising the results\n",
        "plt.figure(figsize=(30,8))\n",
        "plt.plot(df.loc[num_train+1:, 'date'],dataset_test.values, 'r--', label = 'Real')\n",
        "plt.plot(df.loc[num_train+1:, 'date'],predicted_stock_price, 'b', label = 'Predicted')\n",
        "plt.xticks(np.arange(0,num_test,50))\n",
        "plt.title('Bitcoin Price Prediction')\n",
        "plt.xlabel('Time')\n",
        "plt.ylabel('Price')\n",
        "plt.legend()\n",
        "#plt.figure(figsize=(1,1))\n",
        "#plt.rcParams['figure.figsize'] = [10, 5]\n",
        "plt.show()\n"
      ],
      "execution_count": 8,
      "outputs": [
        {
          "output_type": "stream",
          "name": "stdout",
          "text": [
            "        market_cap\n",
            "4601  8.426280e+11\n",
            "4602  8.562620e+11\n",
            "4603  8.654330e+11\n",
            "4604  8.439150e+11\n",
            "4605  8.666120e+11\n",
            "...            ...\n",
            "4699  1.229310e+12\n",
            "4700  1.149380e+12\n",
            "4701  1.129730e+12\n",
            "4702  1.114650e+12\n",
            "4703  1.079230e+12\n",
            "\n",
            "[103 rows x 1 columns]\n",
            "        market_cap\n",
            "4601  8.426280e+11\n",
            "4602  8.562620e+11\n",
            "4603  8.654330e+11\n",
            "4604  8.439150e+11\n",
            "4605  8.666120e+11\n",
            "...            ...\n",
            "4699  1.229310e+12\n",
            "4700  1.149380e+12\n",
            "4701  1.129730e+12\n",
            "4702  1.114650e+12\n",
            "4703  1.079230e+12\n",
            "\n",
            "[103 rows x 1 columns]\n",
            "(103, 60, 1)\n"
          ]
        },
        {
          "output_type": "display_data",
          "data": {
            "image/png": "[encoded data removed]",
            "text/plain": [
              "<Figure size 2160x576 with 1 Axes>"
            ]
          },
          "metadata": {
            "needs_background": "light"
          }
        }
      ]
    },
    {
      "cell_type": "code",
      "metadata": {
        "colab": {
          "base_uri": "https://localhost:8080/"
        },
        "id": "SWZQkbsfkPWQ",
        "outputId": "05f872a9-061e-4dac-b77e-70aab77c8c38"
      },
      "source": [
        "MAPE = np.abs(predicted_stock_price - dataset_test.values)\n",
        "RMSE = np.multiply(MAPE,MAPE)\n",
        "RMSE = math.sqrt(np.mean(RMSE))/np.mean(dataset_test.values)\n",
        "MAE = np.mean(MAPE)/np.mean(dataset_test.values)\n",
        "MAPE = np.divide(MAPE,dataset_test.values)\n",
        "MAPE = np.mean(MAPE)\n",
        "print('MAPE = ',MAPE)\n",
        "print('MAE = ', MAE*100, '%')\n",
        "print('RMSE = ',RMSE*100, '%')\n"
      ],
      "execution_count": 9,
      "outputs": [
        {
          "output_type": "stream",
          "name": "stdout",
          "text": [
            "MAPE =  0.035441169096253534\n",
            "MAE =  3.3460866600430226 %\n",
            "RMSE =  4.1611295490752855 %\n"
          ]
        }
      ]
    }
  ]
}